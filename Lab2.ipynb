{
  "cells": [
    {
      "cell_type": "markdown",
      "id": "8941bcae",
      "metadata": {
        "id": "8941bcae"
      },
      "source": [
        "# Практическое задание 2\n",
        "\n",
        "\n",
        "Импорт необходимых библиотек"
      ]
    },
    {
      "cell_type": "code",
      "execution_count": 1,
      "id": "91cf1ac6",
      "metadata": {
        "id": "91cf1ac6"
      },
      "outputs": [],
      "source": [
        "import pandas as pd\n",
        "from sklearn.tree import DecisionTreeClassifier\n",
        "from sklearn.neighbors import KNeighborsClassifier\n",
        "from sklearn.naive_bayes import GaussianNB\n",
        "\n",
        "\n",
        "from sklearn.metrics import accuracy_score, confusion_matrix\n",
        "from sklearn.model_selection import train_test_split"
      ]
    },
    {
      "cell_type": "code",
      "source": [
        "from google.colab import drive\n",
        "drive.mount('/content/drive')"
      ],
      "metadata": {
        "colab": {
          "base_uri": "https://localhost:8080/"
        },
        "id": "-hinH_ILzcKH",
        "outputId": "731f6a41-e89a-42d1-8d05-a636b2ef040a"
      },
      "id": "-hinH_ILzcKH",
      "execution_count": 2,
      "outputs": [
        {
          "output_type": "stream",
          "name": "stdout",
          "text": [
            "Mounted at /content/drive\n"
          ]
        }
      ]
    },
    {
      "cell_type": "markdown",
      "id": "88e1af59",
      "metadata": {
        "id": "88e1af59"
      },
      "source": [
        "Считывание необходимого набора данных из файла. Данные представляют собой информацию о пациентах, страдающих болезнями сердца."
      ]
    },
    {
      "cell_type": "code",
      "execution_count": 4,
      "id": "56ab76bc",
      "metadata": {
        "colab": {
          "base_uri": "https://localhost:8080/",
          "height": 444
        },
        "id": "56ab76bc",
        "outputId": "d886eac8-f650-4f6f-9563-31a555545037"
      },
      "outputs": [
        {
          "output_type": "execute_result",
          "data": {
            "text/plain": [
              "   Unnamed: 0  Age  Sex     ChestPain  RestBP  Chol  Fbs  RestECG  MaxHR  \\\n",
              "0           1   63    1       typical     145   233    1        2    150   \n",
              "1           2   67    1  asymptomatic     160   286    0        2    108   \n",
              "2           3   67    1  asymptomatic     120   229    0        2    129   \n",
              "3           4   37    1    nonanginal     130   250    0        0    187   \n",
              "4           5   41    0    nontypical     130   204    0        2    172   \n",
              "5           6   56    1    nontypical     120   236    0        0    178   \n",
              "6           7   62    0  asymptomatic     140   268    0        2    160   \n",
              "7           8   57    0  asymptomatic     120   354    0        0    163   \n",
              "8           9   63    1  asymptomatic     130   254    0        2    147   \n",
              "9          10   53    1  asymptomatic     140   203    1        2    155   \n",
              "\n",
              "   ExAng  Oldpeak  Slope   Ca        Thal  AHD  \n",
              "0      0      2.3      3  0.0       fixed   No  \n",
              "1      1      1.5      2  3.0      normal  Yes  \n",
              "2      1      2.6      2  2.0  reversable  Yes  \n",
              "3      0      3.5      3  0.0      normal   No  \n",
              "4      0      1.4      1  0.0      normal   No  \n",
              "5      0      0.8      1  0.0      normal   No  \n",
              "6      0      3.6      3  2.0      normal  Yes  \n",
              "7      1      0.6      1  0.0      normal   No  \n",
              "8      0      1.4      2  1.0  reversable  Yes  \n",
              "9      1      3.1      3  0.0  reversable  Yes  "
            ],
            "text/html": [
              "\n",
              "  <div id=\"df-d7f35543-b995-43dd-85e8-1492916b212b\">\n",
              "    <div class=\"colab-df-container\">\n",
              "      <div>\n",
              "<style scoped>\n",
              "    .dataframe tbody tr th:only-of-type {\n",
              "        vertical-align: middle;\n",
              "    }\n",
              "\n",
              "    .dataframe tbody tr th {\n",
              "        vertical-align: top;\n",
              "    }\n",
              "\n",
              "    .dataframe thead th {\n",
              "        text-align: right;\n",
              "    }\n",
              "</style>\n",
              "<table border=\"1\" class=\"dataframe\">\n",
              "  <thead>\n",
              "    <tr style=\"text-align: right;\">\n",
              "      <th></th>\n",
              "      <th>Unnamed: 0</th>\n",
              "      <th>Age</th>\n",
              "      <th>Sex</th>\n",
              "      <th>ChestPain</th>\n",
              "      <th>RestBP</th>\n",
              "      <th>Chol</th>\n",
              "      <th>Fbs</th>\n",
              "      <th>RestECG</th>\n",
              "      <th>MaxHR</th>\n",
              "      <th>ExAng</th>\n",
              "      <th>Oldpeak</th>\n",
              "      <th>Slope</th>\n",
              "      <th>Ca</th>\n",
              "      <th>Thal</th>\n",
              "      <th>AHD</th>\n",
              "    </tr>\n",
              "  </thead>\n",
              "  <tbody>\n",
              "    <tr>\n",
              "      <th>0</th>\n",
              "      <td>1</td>\n",
              "      <td>63</td>\n",
              "      <td>1</td>\n",
              "      <td>typical</td>\n",
              "      <td>145</td>\n",
              "      <td>233</td>\n",
              "      <td>1</td>\n",
              "      <td>2</td>\n",
              "      <td>150</td>\n",
              "      <td>0</td>\n",
              "      <td>2.3</td>\n",
              "      <td>3</td>\n",
              "      <td>0.0</td>\n",
              "      <td>fixed</td>\n",
              "      <td>No</td>\n",
              "    </tr>\n",
              "    <tr>\n",
              "      <th>1</th>\n",
              "      <td>2</td>\n",
              "      <td>67</td>\n",
              "      <td>1</td>\n",
              "      <td>asymptomatic</td>\n",
              "      <td>160</td>\n",
              "      <td>286</td>\n",
              "      <td>0</td>\n",
              "      <td>2</td>\n",
              "      <td>108</td>\n",
              "      <td>1</td>\n",
              "      <td>1.5</td>\n",
              "      <td>2</td>\n",
              "      <td>3.0</td>\n",
              "      <td>normal</td>\n",
              "      <td>Yes</td>\n",
              "    </tr>\n",
              "    <tr>\n",
              "      <th>2</th>\n",
              "      <td>3</td>\n",
              "      <td>67</td>\n",
              "      <td>1</td>\n",
              "      <td>asymptomatic</td>\n",
              "      <td>120</td>\n",
              "      <td>229</td>\n",
              "      <td>0</td>\n",
              "      <td>2</td>\n",
              "      <td>129</td>\n",
              "      <td>1</td>\n",
              "      <td>2.6</td>\n",
              "      <td>2</td>\n",
              "      <td>2.0</td>\n",
              "      <td>reversable</td>\n",
              "      <td>Yes</td>\n",
              "    </tr>\n",
              "    <tr>\n",
              "      <th>3</th>\n",
              "      <td>4</td>\n",
              "      <td>37</td>\n",
              "      <td>1</td>\n",
              "      <td>nonanginal</td>\n",
              "      <td>130</td>\n",
              "      <td>250</td>\n",
              "      <td>0</td>\n",
              "      <td>0</td>\n",
              "      <td>187</td>\n",
              "      <td>0</td>\n",
              "      <td>3.5</td>\n",
              "      <td>3</td>\n",
              "      <td>0.0</td>\n",
              "      <td>normal</td>\n",
              "      <td>No</td>\n",
              "    </tr>\n",
              "    <tr>\n",
              "      <th>4</th>\n",
              "      <td>5</td>\n",
              "      <td>41</td>\n",
              "      <td>0</td>\n",
              "      <td>nontypical</td>\n",
              "      <td>130</td>\n",
              "      <td>204</td>\n",
              "      <td>0</td>\n",
              "      <td>2</td>\n",
              "      <td>172</td>\n",
              "      <td>0</td>\n",
              "      <td>1.4</td>\n",
              "      <td>1</td>\n",
              "      <td>0.0</td>\n",
              "      <td>normal</td>\n",
              "      <td>No</td>\n",
              "    </tr>\n",
              "    <tr>\n",
              "      <th>5</th>\n",
              "      <td>6</td>\n",
              "      <td>56</td>\n",
              "      <td>1</td>\n",
              "      <td>nontypical</td>\n",
              "      <td>120</td>\n",
              "      <td>236</td>\n",
              "      <td>0</td>\n",
              "      <td>0</td>\n",
              "      <td>178</td>\n",
              "      <td>0</td>\n",
              "      <td>0.8</td>\n",
              "      <td>1</td>\n",
              "      <td>0.0</td>\n",
              "      <td>normal</td>\n",
              "      <td>No</td>\n",
              "    </tr>\n",
              "    <tr>\n",
              "      <th>6</th>\n",
              "      <td>7</td>\n",
              "      <td>62</td>\n",
              "      <td>0</td>\n",
              "      <td>asymptomatic</td>\n",
              "      <td>140</td>\n",
              "      <td>268</td>\n",
              "      <td>0</td>\n",
              "      <td>2</td>\n",
              "      <td>160</td>\n",
              "      <td>0</td>\n",
              "      <td>3.6</td>\n",
              "      <td>3</td>\n",
              "      <td>2.0</td>\n",
              "      <td>normal</td>\n",
              "      <td>Yes</td>\n",
              "    </tr>\n",
              "    <tr>\n",
              "      <th>7</th>\n",
              "      <td>8</td>\n",
              "      <td>57</td>\n",
              "      <td>0</td>\n",
              "      <td>asymptomatic</td>\n",
              "      <td>120</td>\n",
              "      <td>354</td>\n",
              "      <td>0</td>\n",
              "      <td>0</td>\n",
              "      <td>163</td>\n",
              "      <td>1</td>\n",
              "      <td>0.6</td>\n",
              "      <td>1</td>\n",
              "      <td>0.0</td>\n",
              "      <td>normal</td>\n",
              "      <td>No</td>\n",
              "    </tr>\n",
              "    <tr>\n",
              "      <th>8</th>\n",
              "      <td>9</td>\n",
              "      <td>63</td>\n",
              "      <td>1</td>\n",
              "      <td>asymptomatic</td>\n",
              "      <td>130</td>\n",
              "      <td>254</td>\n",
              "      <td>0</td>\n",
              "      <td>2</td>\n",
              "      <td>147</td>\n",
              "      <td>0</td>\n",
              "      <td>1.4</td>\n",
              "      <td>2</td>\n",
              "      <td>1.0</td>\n",
              "      <td>reversable</td>\n",
              "      <td>Yes</td>\n",
              "    </tr>\n",
              "    <tr>\n",
              "      <th>9</th>\n",
              "      <td>10</td>\n",
              "      <td>53</td>\n",
              "      <td>1</td>\n",
              "      <td>asymptomatic</td>\n",
              "      <td>140</td>\n",
              "      <td>203</td>\n",
              "      <td>1</td>\n",
              "      <td>2</td>\n",
              "      <td>155</td>\n",
              "      <td>1</td>\n",
              "      <td>3.1</td>\n",
              "      <td>3</td>\n",
              "      <td>0.0</td>\n",
              "      <td>reversable</td>\n",
              "      <td>Yes</td>\n",
              "    </tr>\n",
              "  </tbody>\n",
              "</table>\n",
              "</div>\n",
              "      <button class=\"colab-df-convert\" onclick=\"convertToInteractive('df-d7f35543-b995-43dd-85e8-1492916b212b')\"\n",
              "              title=\"Convert this dataframe to an interactive table.\"\n",
              "              style=\"display:none;\">\n",
              "        \n",
              "  <svg xmlns=\"http://www.w3.org/2000/svg\" height=\"24px\"viewBox=\"0 0 24 24\"\n",
              "       width=\"24px\">\n",
              "    <path d=\"M0 0h24v24H0V0z\" fill=\"none\"/>\n",
              "    <path d=\"M18.56 5.44l.94 2.06.94-2.06 2.06-.94-2.06-.94-.94-2.06-.94 2.06-2.06.94zm-11 1L8.5 8.5l.94-2.06 2.06-.94-2.06-.94L8.5 2.5l-.94 2.06-2.06.94zm10 10l.94 2.06.94-2.06 2.06-.94-2.06-.94-.94-2.06-.94 2.06-2.06.94z\"/><path d=\"M17.41 7.96l-1.37-1.37c-.4-.4-.92-.59-1.43-.59-.52 0-1.04.2-1.43.59L10.3 9.45l-7.72 7.72c-.78.78-.78 2.05 0 2.83L4 21.41c.39.39.9.59 1.41.59.51 0 1.02-.2 1.41-.59l7.78-7.78 2.81-2.81c.8-.78.8-2.07 0-2.86zM5.41 20L4 18.59l7.72-7.72 1.47 1.35L5.41 20z\"/>\n",
              "  </svg>\n",
              "      </button>\n",
              "      \n",
              "  <style>\n",
              "    .colab-df-container {\n",
              "      display:flex;\n",
              "      flex-wrap:wrap;\n",
              "      gap: 12px;\n",
              "    }\n",
              "\n",
              "    .colab-df-convert {\n",
              "      background-color: #E8F0FE;\n",
              "      border: none;\n",
              "      border-radius: 50%;\n",
              "      cursor: pointer;\n",
              "      display: none;\n",
              "      fill: #1967D2;\n",
              "      height: 32px;\n",
              "      padding: 0 0 0 0;\n",
              "      width: 32px;\n",
              "    }\n",
              "\n",
              "    .colab-df-convert:hover {\n",
              "      background-color: #E2EBFA;\n",
              "      box-shadow: 0px 1px 2px rgba(60, 64, 67, 0.3), 0px 1px 3px 1px rgba(60, 64, 67, 0.15);\n",
              "      fill: #174EA6;\n",
              "    }\n",
              "\n",
              "    [theme=dark] .colab-df-convert {\n",
              "      background-color: #3B4455;\n",
              "      fill: #D2E3FC;\n",
              "    }\n",
              "\n",
              "    [theme=dark] .colab-df-convert:hover {\n",
              "      background-color: #434B5C;\n",
              "      box-shadow: 0px 1px 3px 1px rgba(0, 0, 0, 0.15);\n",
              "      filter: drop-shadow(0px 1px 2px rgba(0, 0, 0, 0.3));\n",
              "      fill: #FFFFFF;\n",
              "    }\n",
              "  </style>\n",
              "\n",
              "      <script>\n",
              "        const buttonEl =\n",
              "          document.querySelector('#df-d7f35543-b995-43dd-85e8-1492916b212b button.colab-df-convert');\n",
              "        buttonEl.style.display =\n",
              "          google.colab.kernel.accessAllowed ? 'block' : 'none';\n",
              "\n",
              "        async function convertToInteractive(key) {\n",
              "          const element = document.querySelector('#df-d7f35543-b995-43dd-85e8-1492916b212b');\n",
              "          const dataTable =\n",
              "            await google.colab.kernel.invokeFunction('convertToInteractive',\n",
              "                                                     [key], {});\n",
              "          if (!dataTable) return;\n",
              "\n",
              "          const docLinkHtml = 'Like what you see? Visit the ' +\n",
              "            '<a target=\"_blank\" href=https://colab.research.google.com/notebooks/data_table.ipynb>data table notebook</a>'\n",
              "            + ' to learn more about interactive tables.';\n",
              "          element.innerHTML = '';\n",
              "          dataTable['output_type'] = 'display_data';\n",
              "          await google.colab.output.renderOutput(dataTable, element);\n",
              "          const docLink = document.createElement('div');\n",
              "          docLink.innerHTML = docLinkHtml;\n",
              "          element.appendChild(docLink);\n",
              "        }\n",
              "      </script>\n",
              "    </div>\n",
              "  </div>\n",
              "  "
            ]
          },
          "metadata": {},
          "execution_count": 4
        }
      ],
      "source": [
        "file=pd.read_csv(\"/content/drive/MyDrive/ai_labs/Heart.csv\", sep=\",\")\n",
        "file.head(10)"
      ]
    },
    {
      "cell_type": "markdown",
      "id": "fa4cdc53",
      "metadata": {
        "id": "fa4cdc53"
      },
      "source": [
        "Исследовательский анализ данных. Существуют пропуски в данных\n"
      ]
    },
    {
      "cell_type": "code",
      "execution_count": 18,
      "id": "06ae6daa",
      "metadata": {
        "colab": {
          "base_uri": "https://localhost:8080/"
        },
        "id": "06ae6daa",
        "outputId": "8287b94d-299a-4faf-ef7b-b686ef0cc49f"
      },
      "outputs": [
        {
          "output_type": "stream",
          "name": "stdout",
          "text": [
            "<class 'pandas.core.frame.DataFrame'>\n",
            "RangeIndex: 303 entries, 0 to 302\n",
            "Data columns (total 15 columns):\n",
            " #   Column      Non-Null Count  Dtype  \n",
            "---  ------      --------------  -----  \n",
            " 0   Unnamed: 0  303 non-null    int64  \n",
            " 1   Age         303 non-null    int64  \n",
            " 2   Sex         303 non-null    int64  \n",
            " 3   ChestPain   303 non-null    object \n",
            " 4   RestBP      303 non-null    int64  \n",
            " 5   Chol        303 non-null    int64  \n",
            " 6   Fbs         303 non-null    int64  \n",
            " 7   RestECG     303 non-null    int64  \n",
            " 8   MaxHR       303 non-null    int64  \n",
            " 9   ExAng       303 non-null    int64  \n",
            " 10  Oldpeak     303 non-null    float64\n",
            " 11  Slope       303 non-null    int64  \n",
            " 12  Ca          303 non-null    float64\n",
            " 13  Thal        303 non-null    object \n",
            " 14  AHD         303 non-null    object \n",
            "dtypes: float64(2), int64(10), object(3)\n",
            "memory usage: 35.6+ KB\n"
          ]
        }
      ],
      "source": [
        "file.info()"
      ]
    },
    {
      "cell_type": "markdown",
      "source": [
        "Поиск строк с пропущенными данными \n",
        "Для столбца Са заполняем пропущенные занчения 1.0"
      ],
      "metadata": {
        "id": "LTx3zlB142J_"
      },
      "id": "LTx3zlB142J_"
    },
    {
      "cell_type": "code",
      "source": [
        "file['Ca'] = file['Ca'].fillna(1.0)\n"
      ],
      "metadata": {
        "id": "tp3vTQY94vir"
      },
      "id": "tp3vTQY94vir",
      "execution_count": 8,
      "outputs": []
    },
    {
      "cell_type": "markdown",
      "source": [
        "Поиск строк с пропущенными данными\n",
        "Для столбца Thal заполняем рандомным значением из доспутимых для этого столбца"
      ],
      "metadata": {
        "id": "lGjGm8PG6mNi"
      },
      "id": "lGjGm8PG6mNi"
    },
    {
      "cell_type": "code",
      "source": [
        "variants  = file['Thal'].unique()\n",
        "print(variants)\n",
        "variants = variants[0:-1:1]\n",
        "print(variants)\n",
        "import random \n",
        "random.seed(10)\n",
        "file['Thal'] = file['Thal'].fillna(random.choice(variants))"
      ],
      "metadata": {
        "id": "NM6Ges3V6xhC",
        "outputId": "a95abf08-da80-4000-a4b7-418e3dcaadef",
        "colab": {
          "base_uri": "https://localhost:8080/"
        }
      },
      "id": "NM6Ges3V6xhC",
      "execution_count": 17,
      "outputs": [
        {
          "output_type": "stream",
          "name": "stdout",
          "text": [
            "['fixed' 'normal' 'reversable' nan]\n",
            "['fixed' 'normal' 'reversable']\n"
          ]
        }
      ]
    },
    {
      "cell_type": "markdown",
      "source": [
        "Проверяем наличие незаполненных ячеек"
      ],
      "metadata": {
        "id": "Bhj8_6Mt8jny"
      },
      "id": "Bhj8_6Mt8jny"
    },
    {
      "cell_type": "code",
      "source": [
        "file.isnull().values.any()"
      ],
      "metadata": {
        "id": "nmPGIS1_8qJp",
        "outputId": "4cf4ec47-3d7f-4525-c7cc-738ae0eeaa65",
        "colab": {
          "base_uri": "https://localhost:8080/"
        }
      },
      "id": "nmPGIS1_8qJp",
      "execution_count": 20,
      "outputs": [
        {
          "output_type": "execute_result",
          "data": {
            "text/plain": [
              "False"
            ]
          },
          "metadata": {},
          "execution_count": 20
        }
      ]
    },
    {
      "cell_type": "markdown",
      "source": [
        "Удаляем 1 мусорный стобец "
      ],
      "metadata": {
        "id": "fDko3WWr9C4j"
      },
      "id": "fDko3WWr9C4j"
    },
    {
      "cell_type": "code",
      "source": [
        "file = file.drop(columns='Unnamed: 0')"
      ],
      "metadata": {
        "id": "t_QcktNS9Gw6"
      },
      "id": "t_QcktNS9Gw6",
      "execution_count": 21,
      "outputs": []
    },
    {
      "cell_type": "markdown",
      "source": [
        "Применяем метод one_hot_encoding для избавления от категориальных признаков "
      ],
      "metadata": {
        "id": "IatrP2HL929R"
      },
      "id": "IatrP2HL929R"
    },
    {
      "cell_type": "code",
      "source": [
        "file = pd.get_dummies(file, columns=['ChestPain', 'AHD'])"
      ],
      "metadata": {
        "id": "7-CL6tZM-AJ5"
      },
      "id": "7-CL6tZM-AJ5",
      "execution_count": 26,
      "outputs": []
    },
    {
      "cell_type": "markdown",
      "source": [
        "Проверяем финальную структуру отчищенного датасета"
      ],
      "metadata": {
        "id": "okDbixbO9Zdg"
      },
      "id": "okDbixbO9Zdg"
    },
    {
      "cell_type": "code",
      "source": [
        "file.info()"
      ],
      "metadata": {
        "id": "B_2CU5_S9dhC",
        "outputId": "c92dbd8a-21da-4a97-f6d7-ee59b49f0765",
        "colab": {
          "base_uri": "https://localhost:8080/"
        }
      },
      "id": "B_2CU5_S9dhC",
      "execution_count": 27,
      "outputs": [
        {
          "output_type": "stream",
          "name": "stdout",
          "text": [
            "<class 'pandas.core.frame.DataFrame'>\n",
            "RangeIndex: 303 entries, 0 to 302\n",
            "Data columns (total 18 columns):\n",
            " #   Column                  Non-Null Count  Dtype  \n",
            "---  ------                  --------------  -----  \n",
            " 0   Age                     303 non-null    int64  \n",
            " 1   Sex                     303 non-null    int64  \n",
            " 2   RestBP                  303 non-null    int64  \n",
            " 3   Chol                    303 non-null    int64  \n",
            " 4   Fbs                     303 non-null    int64  \n",
            " 5   RestECG                 303 non-null    int64  \n",
            " 6   MaxHR                   303 non-null    int64  \n",
            " 7   ExAng                   303 non-null    int64  \n",
            " 8   Oldpeak                 303 non-null    float64\n",
            " 9   Slope                   303 non-null    int64  \n",
            " 10  Ca                      303 non-null    float64\n",
            " 11  Thal                    303 non-null    object \n",
            " 12  ChestPain_asymptomatic  303 non-null    uint8  \n",
            " 13  ChestPain_nonanginal    303 non-null    uint8  \n",
            " 14  ChestPain_nontypical    303 non-null    uint8  \n",
            " 15  ChestPain_typical       303 non-null    uint8  \n",
            " 16  AHD_No                  303 non-null    uint8  \n",
            " 17  AHD_Yes                 303 non-null    uint8  \n",
            "dtypes: float64(2), int64(9), object(1), uint8(6)\n",
            "memory usage: 30.3+ KB\n"
          ]
        }
      ]
    },
    {
      "cell_type": "markdown",
      "id": "258fc67f",
      "metadata": {
        "id": "258fc67f"
      },
      "source": [
        "Разделение данных на входные данные для модели и целевую переменную "
      ]
    },
    {
      "cell_type": "code",
      "execution_count": 28,
      "id": "ebab5f50",
      "metadata": {
        "id": "ebab5f50"
      },
      "outputs": [],
      "source": [
        "target=file['Thal']\n",
        "data=file.drop(columns='Thal')"
      ]
    },
    {
      "cell_type": "markdown",
      "id": "8a59e972",
      "metadata": {
        "id": "8a59e972"
      },
      "source": [
        "Разобьем выборку на обучающую(70%) и тестовую(30%) "
      ]
    },
    {
      "cell_type": "code",
      "execution_count": 29,
      "id": "6060a629",
      "metadata": {
        "id": "6060a629"
      },
      "outputs": [],
      "source": [
        "x_train, x_test, y_train, y_test = train_test_split(data, target, test_size=0.3)\n",
        " "
      ]
    },
    {
      "cell_type": "markdown",
      "id": "2785cf60",
      "metadata": {
        "id": "2785cf60"
      },
      "source": [
        "Обучим классификаторы"
      ]
    },
    {
      "cell_type": "code",
      "execution_count": 30,
      "id": "7e0afc88",
      "metadata": {
        "colab": {
          "base_uri": "https://localhost:8080/"
        },
        "id": "7e0afc88",
        "outputId": "949f5174-754a-4ed3-f806-02f7f46e280a"
      },
      "outputs": [
        {
          "output_type": "execute_result",
          "data": {
            "text/plain": [
              "GaussianNB()"
            ]
          },
          "metadata": {},
          "execution_count": 30
        }
      ],
      "source": [
        "decision_tree_cls= DecisionTreeClassifier(max_depth=4, random_state=0, min_samples_leaf=5)\n",
        "kneighbors_cls=KNeighborsClassifier(n_neighbors =3)\n",
        "naive_bayes_cls=GaussianNB()\n",
        "\n",
        "\n",
        "decision_tree_cls.fit(x_train,y_train)\n",
        "kneighbors_cls.fit(x_train,y_train)\n",
        "naive_bayes_cls.fit(x_train,y_train)\n"
      ]
    },
    {
      "cell_type": "markdown",
      "id": "d9a839c3",
      "metadata": {
        "id": "d9a839c3"
      },
      "source": [
        "### Оценка эффективности decision_tree"
      ]
    },
    {
      "cell_type": "code",
      "execution_count": 31,
      "id": "08df6dba",
      "metadata": {
        "colab": {
          "base_uri": "https://localhost:8080/"
        },
        "id": "08df6dba",
        "outputId": "ce5bc096-a283-4eb1-f33e-235b1273ae41"
      },
      "outputs": [
        {
          "output_type": "execute_result",
          "data": {
            "text/plain": [
              "0.6373626373626373"
            ]
          },
          "metadata": {},
          "execution_count": 31
        }
      ],
      "source": [
        "decision_tree_prediction=decision_tree_cls.predict(x_test)\n",
        "accuracy_score(decision_tree_prediction, y_test)\n",
        "# "
      ]
    },
    {
      "cell_type": "code",
      "execution_count": 32,
      "id": "7c81a566",
      "metadata": {
        "colab": {
          "base_uri": "https://localhost:8080/"
        },
        "id": "7c81a566",
        "outputId": "5c57c672-75aa-40b1-a72c-2b1263769fd1"
      },
      "outputs": [
        {
          "output_type": "execute_result",
          "data": {
            "text/plain": [
              "array([[ 0,  0,  0],\n",
              "       [ 2, 36, 10],\n",
              "       [ 5, 16, 22]])"
            ]
          },
          "metadata": {},
          "execution_count": 32
        }
      ],
      "source": [
        "confusion_matrix(decision_tree_prediction, y_test)"
      ]
    },
    {
      "cell_type": "markdown",
      "id": "a97bf725",
      "metadata": {
        "id": "a97bf725"
      },
      "source": [
        "оценка точности"
      ]
    },
    {
      "cell_type": "code",
      "execution_count": 37,
      "id": "05bbe082",
      "metadata": {
        "colab": {
          "base_uri": "https://localhost:8080/"
        },
        "id": "05bbe082",
        "outputId": "b2008bc3-2c69-4b5e-da27-9369cb2c7bc7"
      },
      "outputs": [
        {
          "output_type": "execute_result",
          "data": {
            "text/plain": [
              "0.6373626373626373"
            ]
          },
          "metadata": {},
          "execution_count": 37
        }
      ],
      "source": [
        "from sklearn.metrics import precision_score\n",
        "precision_score(y_test, decision_tree_prediction, average='micro')"
      ]
    },
    {
      "cell_type": "markdown",
      "id": "f01c049c",
      "metadata": {
        "id": "f01c049c"
      },
      "source": [
        "оценка полноты"
      ]
    },
    {
      "cell_type": "code",
      "execution_count": 38,
      "id": "7bf23302",
      "metadata": {
        "colab": {
          "base_uri": "https://localhost:8080/"
        },
        "id": "7bf23302",
        "outputId": "88653fb4-5046-4302-dde4-c580d433881e"
      },
      "outputs": [
        {
          "output_type": "execute_result",
          "data": {
            "text/plain": [
              "0.6373626373626373"
            ]
          },
          "metadata": {},
          "execution_count": 38
        }
      ],
      "source": [
        "from sklearn.metrics import recall_score\n",
        "recall_score(y_test, decision_tree_prediction, average='micro')"
      ]
    },
    {
      "cell_type": "markdown",
      "id": "0f9d303b",
      "metadata": {
        "id": "0f9d303b"
      },
      "source": [
        "### Оценка эффективности kneighbors_cls"
      ]
    },
    {
      "cell_type": "code",
      "execution_count": 39,
      "id": "8117456b",
      "metadata": {
        "colab": {
          "base_uri": "https://localhost:8080/"
        },
        "id": "8117456b",
        "outputId": "90391ae0-5292-427c-e622-2476f240af0f"
      },
      "outputs": [
        {
          "output_type": "execute_result",
          "data": {
            "text/plain": [
              "array([[ 0,  3,  2],\n",
              "       [ 3, 36, 16],\n",
              "       [ 4, 13, 14]])"
            ]
          },
          "metadata": {},
          "execution_count": 39
        }
      ],
      "source": [
        "kneighbors_prediction=kneighbors_cls.predict(x_test)\n",
        "confusion_matrix(kneighbors_prediction, y_test)\n"
      ]
    },
    {
      "cell_type": "markdown",
      "id": "e984f1a4",
      "metadata": {
        "id": "e984f1a4"
      },
      "source": [
        "оценка полноты"
      ]
    },
    {
      "cell_type": "code",
      "execution_count": 41,
      "id": "0aa66f46",
      "metadata": {
        "colab": {
          "base_uri": "https://localhost:8080/"
        },
        "id": "0aa66f46",
        "outputId": "d07af4ee-65b6-45fd-a6a7-beaf20e4593f"
      },
      "outputs": [
        {
          "output_type": "execute_result",
          "data": {
            "text/plain": [
              "0.6373626373626373"
            ]
          },
          "metadata": {},
          "execution_count": 41
        }
      ],
      "source": [
        "recall_score(y_test, decision_tree_prediction, average='micro')"
      ]
    },
    {
      "cell_type": "markdown",
      "id": "18345c25",
      "metadata": {
        "id": "18345c25"
      },
      "source": [
        "оценка точности"
      ]
    },
    {
      "cell_type": "code",
      "execution_count": 43,
      "id": "52d8671f",
      "metadata": {
        "colab": {
          "base_uri": "https://localhost:8080/"
        },
        "id": "52d8671f",
        "outputId": "a1e20a2e-577b-49ab-ee03-f8a570c8f353"
      },
      "outputs": [
        {
          "output_type": "execute_result",
          "data": {
            "text/plain": [
              "0.5494505494505495"
            ]
          },
          "metadata": {},
          "execution_count": 43
        }
      ],
      "source": [
        "precision_score(y_test, kneighbors_prediction, average='micro')"
      ]
    },
    {
      "cell_type": "markdown",
      "id": "0b9229da",
      "metadata": {
        "id": "0b9229da"
      },
      "source": [
        "### Оценка эффективности naive_bayes"
      ]
    },
    {
      "cell_type": "code",
      "execution_count": 44,
      "id": "5ed1d3a1",
      "metadata": {
        "id": "5ed1d3a1"
      },
      "outputs": [],
      "source": [
        "naive_bayes_prediction=naive_bayes_cls.predict(x_test)"
      ]
    },
    {
      "cell_type": "code",
      "execution_count": 45,
      "id": "4bc241e7",
      "metadata": {
        "colab": {
          "base_uri": "https://localhost:8080/"
        },
        "id": "4bc241e7",
        "outputId": "b46ca71e-528e-46d5-c950-27e767311d4e"
      },
      "outputs": [
        {
          "output_type": "execute_result",
          "data": {
            "text/plain": [
              "array([[ 3,  8, 23],\n",
              "       [ 2, 38,  7],\n",
              "       [ 2,  6,  2]])"
            ]
          },
          "metadata": {},
          "execution_count": 45
        }
      ],
      "source": [
        "confusion_matrix(naive_bayes_prediction, y_test)"
      ]
    },
    {
      "cell_type": "markdown",
      "id": "a6094bfa",
      "metadata": {
        "id": "a6094bfa"
      },
      "source": [
        "оценка точности"
      ]
    },
    {
      "cell_type": "code",
      "execution_count": 47,
      "id": "1dcb6165",
      "metadata": {
        "colab": {
          "base_uri": "https://localhost:8080/"
        },
        "id": "1dcb6165",
        "outputId": "b039f6dc-fc3f-4e5d-d04c-e47535cc6e94"
      },
      "outputs": [
        {
          "output_type": "execute_result",
          "data": {
            "text/plain": [
              "0.4725274725274725"
            ]
          },
          "metadata": {},
          "execution_count": 47
        }
      ],
      "source": [
        "precision_score(y_test, naive_bayes_prediction, average='micro')"
      ]
    },
    {
      "cell_type": "markdown",
      "id": "610722dd",
      "metadata": {
        "id": "610722dd"
      },
      "source": [
        "оценка полноты"
      ]
    },
    {
      "cell_type": "code",
      "execution_count": 48,
      "id": "b026558e",
      "metadata": {
        "colab": {
          "base_uri": "https://localhost:8080/"
        },
        "id": "b026558e",
        "outputId": "a642f974-2213-4ea5-e444-bfb552ee33b8"
      },
      "outputs": [
        {
          "output_type": "execute_result",
          "data": {
            "text/plain": [
              "0.6373626373626373"
            ]
          },
          "metadata": {},
          "execution_count": 48
        }
      ],
      "source": [
        "recall_score(y_test, decision_tree_prediction, average='micro')"
      ]
    }
  ],
  "metadata": {
    "kernelspec": {
      "display_name": "Python 3 (ipykernel)",
      "language": "python",
      "name": "python3"
    },
    "language_info": {
      "codemirror_mode": {
        "name": "ipython",
        "version": 3
      },
      "file_extension": ".py",
      "mimetype": "text/x-python",
      "name": "python",
      "nbconvert_exporter": "python",
      "pygments_lexer": "ipython3",
      "version": "3.9.12"
    },
    "colab": {
      "provenance": []
    }
  },
  "nbformat": 4,
  "nbformat_minor": 5
}