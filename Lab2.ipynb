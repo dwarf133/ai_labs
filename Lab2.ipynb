{
 "cells": [
  {
   "cell_type": "markdown",
   "id": "8941bcae",
   "metadata": {},
   "source": [
    "# Практическое задание 2\n",
    "\n",
    "\n",
    "Импорт необходимых библиотек"
   ]
  },
  {
   "cell_type": "code",
   "execution_count": 34,
   "id": "91cf1ac6",
   "metadata": {},
   "outputs": [],
   "source": [
    "import pandas as pd\n",
    "from sklearn.tree import DecisionTreeClassifier\n",
    "from sklearn.neighbors import KNeighborsClassifier\n",
    "from sklearn.naive_bayes import GaussianNB\n",
    "\n",
    "\n",
    "from sklearn.metrics import accuracy_score, confusion_matrix\n",
    "from sklearn.model_selection import train_test_split"
   ]
  },
  {
   "cell_type": "markdown",
   "id": "88e1af59",
   "metadata": {},
   "source": [
    "Считывание необходимого набора данных из файла. Данные представляют собой информацию о пациентах, страдающих болезнями сердца."
   ]
  },
  {
   "cell_type": "code",
   "execution_count": 3,
   "id": "56ab76bc",
   "metadata": {},
   "outputs": [
    {
     "data": {
      "text/html": [
       "<div>\n",
       "<style scoped>\n",
       "    .dataframe tbody tr th:only-of-type {\n",
       "        vertical-align: middle;\n",
       "    }\n",
       "\n",
       "    .dataframe tbody tr th {\n",
       "        vertical-align: top;\n",
       "    }\n",
       "\n",
       "    .dataframe thead th {\n",
       "        text-align: right;\n",
       "    }\n",
       "</style>\n",
       "<table border=\"1\" class=\"dataframe\">\n",
       "  <thead>\n",
       "    <tr style=\"text-align: right;\">\n",
       "      <th></th>\n",
       "      <th>0</th>\n",
       "      <th>1</th>\n",
       "      <th>2</th>\n",
       "      <th>3</th>\n",
       "      <th>4</th>\n",
       "      <th>5</th>\n",
       "      <th>6</th>\n",
       "      <th>7</th>\n",
       "      <th>8</th>\n",
       "      <th>9</th>\n",
       "      <th>10</th>\n",
       "      <th>11</th>\n",
       "      <th>12</th>\n",
       "      <th>13</th>\n",
       "    </tr>\n",
       "  </thead>\n",
       "  <tbody>\n",
       "    <tr>\n",
       "      <th>0</th>\n",
       "      <td>70.0</td>\n",
       "      <td>1.0</td>\n",
       "      <td>4.0</td>\n",
       "      <td>130.0</td>\n",
       "      <td>322.0</td>\n",
       "      <td>0.0</td>\n",
       "      <td>2.0</td>\n",
       "      <td>109.0</td>\n",
       "      <td>0.0</td>\n",
       "      <td>2.4</td>\n",
       "      <td>2.0</td>\n",
       "      <td>3.0</td>\n",
       "      <td>3.0</td>\n",
       "      <td>2</td>\n",
       "    </tr>\n",
       "    <tr>\n",
       "      <th>1</th>\n",
       "      <td>67.0</td>\n",
       "      <td>0.0</td>\n",
       "      <td>3.0</td>\n",
       "      <td>115.0</td>\n",
       "      <td>564.0</td>\n",
       "      <td>0.0</td>\n",
       "      <td>2.0</td>\n",
       "      <td>160.0</td>\n",
       "      <td>0.0</td>\n",
       "      <td>1.6</td>\n",
       "      <td>2.0</td>\n",
       "      <td>0.0</td>\n",
       "      <td>7.0</td>\n",
       "      <td>1</td>\n",
       "    </tr>\n",
       "    <tr>\n",
       "      <th>2</th>\n",
       "      <td>57.0</td>\n",
       "      <td>1.0</td>\n",
       "      <td>2.0</td>\n",
       "      <td>124.0</td>\n",
       "      <td>261.0</td>\n",
       "      <td>0.0</td>\n",
       "      <td>0.0</td>\n",
       "      <td>141.0</td>\n",
       "      <td>0.0</td>\n",
       "      <td>0.3</td>\n",
       "      <td>1.0</td>\n",
       "      <td>0.0</td>\n",
       "      <td>7.0</td>\n",
       "      <td>2</td>\n",
       "    </tr>\n",
       "    <tr>\n",
       "      <th>3</th>\n",
       "      <td>64.0</td>\n",
       "      <td>1.0</td>\n",
       "      <td>4.0</td>\n",
       "      <td>128.0</td>\n",
       "      <td>263.0</td>\n",
       "      <td>0.0</td>\n",
       "      <td>0.0</td>\n",
       "      <td>105.0</td>\n",
       "      <td>1.0</td>\n",
       "      <td>0.2</td>\n",
       "      <td>2.0</td>\n",
       "      <td>1.0</td>\n",
       "      <td>7.0</td>\n",
       "      <td>1</td>\n",
       "    </tr>\n",
       "    <tr>\n",
       "      <th>4</th>\n",
       "      <td>74.0</td>\n",
       "      <td>0.0</td>\n",
       "      <td>2.0</td>\n",
       "      <td>120.0</td>\n",
       "      <td>269.0</td>\n",
       "      <td>0.0</td>\n",
       "      <td>2.0</td>\n",
       "      <td>121.0</td>\n",
       "      <td>1.0</td>\n",
       "      <td>0.2</td>\n",
       "      <td>1.0</td>\n",
       "      <td>1.0</td>\n",
       "      <td>3.0</td>\n",
       "      <td>1</td>\n",
       "    </tr>\n",
       "    <tr>\n",
       "      <th>5</th>\n",
       "      <td>65.0</td>\n",
       "      <td>1.0</td>\n",
       "      <td>4.0</td>\n",
       "      <td>120.0</td>\n",
       "      <td>177.0</td>\n",
       "      <td>0.0</td>\n",
       "      <td>0.0</td>\n",
       "      <td>140.0</td>\n",
       "      <td>0.0</td>\n",
       "      <td>0.4</td>\n",
       "      <td>1.0</td>\n",
       "      <td>0.0</td>\n",
       "      <td>7.0</td>\n",
       "      <td>1</td>\n",
       "    </tr>\n",
       "    <tr>\n",
       "      <th>6</th>\n",
       "      <td>56.0</td>\n",
       "      <td>1.0</td>\n",
       "      <td>3.0</td>\n",
       "      <td>130.0</td>\n",
       "      <td>256.0</td>\n",
       "      <td>1.0</td>\n",
       "      <td>2.0</td>\n",
       "      <td>142.0</td>\n",
       "      <td>1.0</td>\n",
       "      <td>0.6</td>\n",
       "      <td>2.0</td>\n",
       "      <td>1.0</td>\n",
       "      <td>6.0</td>\n",
       "      <td>2</td>\n",
       "    </tr>\n",
       "    <tr>\n",
       "      <th>7</th>\n",
       "      <td>59.0</td>\n",
       "      <td>1.0</td>\n",
       "      <td>4.0</td>\n",
       "      <td>110.0</td>\n",
       "      <td>239.0</td>\n",
       "      <td>0.0</td>\n",
       "      <td>2.0</td>\n",
       "      <td>142.0</td>\n",
       "      <td>1.0</td>\n",
       "      <td>1.2</td>\n",
       "      <td>2.0</td>\n",
       "      <td>1.0</td>\n",
       "      <td>7.0</td>\n",
       "      <td>2</td>\n",
       "    </tr>\n",
       "    <tr>\n",
       "      <th>8</th>\n",
       "      <td>60.0</td>\n",
       "      <td>1.0</td>\n",
       "      <td>4.0</td>\n",
       "      <td>140.0</td>\n",
       "      <td>293.0</td>\n",
       "      <td>0.0</td>\n",
       "      <td>2.0</td>\n",
       "      <td>170.0</td>\n",
       "      <td>0.0</td>\n",
       "      <td>1.2</td>\n",
       "      <td>2.0</td>\n",
       "      <td>2.0</td>\n",
       "      <td>7.0</td>\n",
       "      <td>2</td>\n",
       "    </tr>\n",
       "    <tr>\n",
       "      <th>9</th>\n",
       "      <td>63.0</td>\n",
       "      <td>0.0</td>\n",
       "      <td>4.0</td>\n",
       "      <td>150.0</td>\n",
       "      <td>407.0</td>\n",
       "      <td>0.0</td>\n",
       "      <td>2.0</td>\n",
       "      <td>154.0</td>\n",
       "      <td>0.0</td>\n",
       "      <td>4.0</td>\n",
       "      <td>2.0</td>\n",
       "      <td>3.0</td>\n",
       "      <td>7.0</td>\n",
       "      <td>2</td>\n",
       "    </tr>\n",
       "  </tbody>\n",
       "</table>\n",
       "</div>"
      ],
      "text/plain": [
       "     0    1    2      3      4    5    6      7    8    9    10   11   12  13\n",
       "0  70.0  1.0  4.0  130.0  322.0  0.0  2.0  109.0  0.0  2.4  2.0  3.0  3.0   2\n",
       "1  67.0  0.0  3.0  115.0  564.0  0.0  2.0  160.0  0.0  1.6  2.0  0.0  7.0   1\n",
       "2  57.0  1.0  2.0  124.0  261.0  0.0  0.0  141.0  0.0  0.3  1.0  0.0  7.0   2\n",
       "3  64.0  1.0  4.0  128.0  263.0  0.0  0.0  105.0  1.0  0.2  2.0  1.0  7.0   1\n",
       "4  74.0  0.0  2.0  120.0  269.0  0.0  2.0  121.0  1.0  0.2  1.0  1.0  3.0   1\n",
       "5  65.0  1.0  4.0  120.0  177.0  0.0  0.0  140.0  0.0  0.4  1.0  0.0  7.0   1\n",
       "6  56.0  1.0  3.0  130.0  256.0  1.0  2.0  142.0  1.0  0.6  2.0  1.0  6.0   2\n",
       "7  59.0  1.0  4.0  110.0  239.0  0.0  2.0  142.0  1.0  1.2  2.0  1.0  7.0   2\n",
       "8  60.0  1.0  4.0  140.0  293.0  0.0  2.0  170.0  0.0  1.2  2.0  2.0  7.0   2\n",
       "9  63.0  0.0  4.0  150.0  407.0  0.0  2.0  154.0  0.0  4.0  2.0  3.0  7.0   2"
      ]
     },
     "execution_count": 3,
     "metadata": {},
     "output_type": "execute_result"
    }
   ],
   "source": [
    "file=pd.read_csv(\"heart.csv\",header=None, sep=\" \")\n",
    "file.head(10)"
   ]
  },
  {
   "cell_type": "markdown",
   "id": "fa4cdc53",
   "metadata": {},
   "source": [
    "Исследовательский анализ данных. пропусков в данных не имеется"
   ]
  },
  {
   "cell_type": "code",
   "execution_count": 5,
   "id": "06ae6daa",
   "metadata": {},
   "outputs": [
    {
     "name": "stdout",
     "output_type": "stream",
     "text": [
      "<class 'pandas.core.frame.DataFrame'>\n",
      "RangeIndex: 270 entries, 0 to 269\n",
      "Data columns (total 14 columns):\n",
      " #   Column  Non-Null Count  Dtype  \n",
      "---  ------  --------------  -----  \n",
      " 0   0       270 non-null    float64\n",
      " 1   1       270 non-null    float64\n",
      " 2   2       270 non-null    float64\n",
      " 3   3       270 non-null    float64\n",
      " 4   4       270 non-null    float64\n",
      " 5   5       270 non-null    float64\n",
      " 6   6       270 non-null    float64\n",
      " 7   7       270 non-null    float64\n",
      " 8   8       270 non-null    float64\n",
      " 9   9       270 non-null    float64\n",
      " 10  10      270 non-null    float64\n",
      " 11  11      270 non-null    float64\n",
      " 12  12      270 non-null    float64\n",
      " 13  13      270 non-null    int64  \n",
      "dtypes: float64(13), int64(1)\n",
      "memory usage: 29.7 KB\n"
     ]
    }
   ],
   "source": [
    "file.info()"
   ]
  },
  {
   "cell_type": "markdown",
   "id": "258fc67f",
   "metadata": {},
   "source": [
    "Разделение данных на входные данные для модели и целевую переменную "
   ]
  },
  {
   "cell_type": "code",
   "execution_count": 6,
   "id": "ebab5f50",
   "metadata": {},
   "outputs": [],
   "source": [
    "target=file[13]\n",
    "data=file.drop(columns=13)"
   ]
  },
  {
   "cell_type": "markdown",
   "id": "8a59e972",
   "metadata": {},
   "source": [
    "Разобьем выборку на обучающую(70%) и тестовую(30%) "
   ]
  },
  {
   "cell_type": "code",
   "execution_count": 41,
   "id": "6060a629",
   "metadata": {},
   "outputs": [],
   "source": [
    "x_train, x_test, y_train, y_test = train_test_split(data, target, test_size=0.3)\n",
    " "
   ]
  },
  {
   "cell_type": "markdown",
   "id": "2785cf60",
   "metadata": {},
   "source": [
    "Обучим классификаторы"
   ]
  },
  {
   "cell_type": "code",
   "execution_count": 42,
   "id": "7e0afc88",
   "metadata": {},
   "outputs": [
    {
     "data": {
      "text/plain": [
       "GaussianNB()"
      ]
     },
     "execution_count": 42,
     "metadata": {},
     "output_type": "execute_result"
    }
   ],
   "source": [
    "decision_tree_cls= DecisionTreeClassifier(max_depth=4, random_state=0, min_samples_leaf=5)\n",
    "kneighbors_cls=KNeighborsClassifier(n_neighbors =3)\n",
    "naive_bayes_cls=GaussianNB()\n",
    "\n",
    "\n",
    "decision_tree_cls.fit(x_train,y_train)\n",
    "kneighbors_cls.fit(x_train,y_train)\n",
    "naive_bayes_cls.fit(x_train,y_train)\n"
   ]
  },
  {
   "cell_type": "markdown",
   "id": "d9a839c3",
   "metadata": {},
   "source": [
    "### Оценка эффективности decision_tree"
   ]
  },
  {
   "cell_type": "code",
   "execution_count": 47,
   "id": "08df6dba",
   "metadata": {},
   "outputs": [
    {
     "data": {
      "text/plain": [
       "0.7654320987654321"
      ]
     },
     "execution_count": 47,
     "metadata": {},
     "output_type": "execute_result"
    }
   ],
   "source": [
    "decision_tree_prediction=decision_tree_cls.predict(x_test)\n",
    "accuracy_score(decision_tree_prediction, y_test)\n",
    "# "
   ]
  },
  {
   "cell_type": "code",
   "execution_count": 49,
   "id": "7c81a566",
   "metadata": {},
   "outputs": [
    {
     "data": {
      "text/plain": [
       "array([[36, 15],\n",
       "       [ 4, 26]], dtype=int64)"
      ]
     },
     "execution_count": 49,
     "metadata": {},
     "output_type": "execute_result"
    }
   ],
   "source": [
    "confusion_matrix(decision_tree_prediction, y_test)"
   ]
  },
  {
   "cell_type": "markdown",
   "id": "a97bf725",
   "metadata": {},
   "source": [
    "оценка точности"
   ]
  },
  {
   "cell_type": "code",
   "execution_count": 50,
   "id": "05bbe082",
   "metadata": {},
   "outputs": [
    {
     "data": {
      "text/plain": [
       "0.7058823529411765"
      ]
     },
     "execution_count": 50,
     "metadata": {},
     "output_type": "execute_result"
    }
   ],
   "source": [
    "from sklearn.metrics import precision_score\n",
    "precision_score(y_test, decision_tree_prediction)"
   ]
  },
  {
   "cell_type": "markdown",
   "id": "f01c049c",
   "metadata": {},
   "source": [
    "оценка полноты"
   ]
  },
  {
   "cell_type": "code",
   "execution_count": 53,
   "id": "7bf23302",
   "metadata": {},
   "outputs": [
    {
     "data": {
      "text/plain": [
       "0.9"
      ]
     },
     "execution_count": 53,
     "metadata": {},
     "output_type": "execute_result"
    }
   ],
   "source": [
    "from sklearn.metrics import recall_score\n",
    "recall_score(y_test, decision_tree_prediction)"
   ]
  },
  {
   "cell_type": "markdown",
   "id": "0f9d303b",
   "metadata": {},
   "source": [
    "### Оценка эффективности kneighbors_cls"
   ]
  },
  {
   "cell_type": "code",
   "execution_count": 44,
   "id": "8117456b",
   "metadata": {},
   "outputs": [
    {
     "data": {
      "text/plain": [
       "0.7283950617283951"
      ]
     },
     "execution_count": 44,
     "metadata": {},
     "output_type": "execute_result"
    }
   ],
   "source": [
    "kneighbors_prediction=kneighbors_cls.predict(x_test)\n",
    "confusion_matrix(kneighbors_prediction, y_test)\n"
   ]
  },
  {
   "cell_type": "markdown",
   "id": "e984f1a4",
   "metadata": {},
   "source": [
    "оценка полноты"
   ]
  },
  {
   "cell_type": "code",
   "execution_count": 48,
   "id": "0aa66f46",
   "metadata": {},
   "outputs": [
    {
     "data": {
      "text/plain": [
       "array([[31, 13],\n",
       "       [ 9, 28]], dtype=int64)"
      ]
     },
     "execution_count": 48,
     "metadata": {},
     "output_type": "execute_result"
    }
   ],
   "source": [
    "recall_score(y_test, decision_tree_prediction)"
   ]
  },
  {
   "cell_type": "markdown",
   "id": "18345c25",
   "metadata": {},
   "source": [
    "оценка точности"
   ]
  },
  {
   "cell_type": "code",
   "execution_count": 51,
   "id": "52d8671f",
   "metadata": {},
   "outputs": [
    {
     "data": {
      "text/plain": [
       "0.7045454545454546"
      ]
     },
     "execution_count": 51,
     "metadata": {},
     "output_type": "execute_result"
    }
   ],
   "source": [
    "precision_score(y_test, kneighbors_prediction)"
   ]
  },
  {
   "cell_type": "markdown",
   "id": "0b9229da",
   "metadata": {},
   "source": [
    "### Оценка эффективности naive_bayes"
   ]
  },
  {
   "cell_type": "code",
   "execution_count": 55,
   "id": "5ed1d3a1",
   "metadata": {},
   "outputs": [],
   "source": [
    "naive_bayes_prediction=naive_bayes_cls.predict(x_test)"
   ]
  },
  {
   "cell_type": "code",
   "execution_count": 46,
   "id": "4bc241e7",
   "metadata": {},
   "outputs": [
    {
     "data": {
      "text/plain": [
       "array([[35,  5],\n",
       "       [ 5, 36]], dtype=int64)"
      ]
     },
     "execution_count": 46,
     "metadata": {},
     "output_type": "execute_result"
    }
   ],
   "source": [
    "confusion_matrix(naive_bayes_prediction, y_test)"
   ]
  },
  {
   "cell_type": "markdown",
   "id": "8832afa8",
   "metadata": {},
   "source": []
  },
  {
   "cell_type": "markdown",
   "id": "a6094bfa",
   "metadata": {},
   "source": [
    "оценка точности"
   ]
  },
  {
   "cell_type": "code",
   "execution_count": 52,
   "id": "1dcb6165",
   "metadata": {},
   "outputs": [
    {
     "data": {
      "text/plain": [
       "0.875"
      ]
     },
     "execution_count": 52,
     "metadata": {},
     "output_type": "execute_result"
    }
   ],
   "source": [
    "precision_score(y_test, naive_bayes_prediction)"
   ]
  },
  {
   "cell_type": "markdown",
   "id": "610722dd",
   "metadata": {},
   "source": [
    "оценка полноты"
   ]
  },
  {
   "cell_type": "code",
   "execution_count": null,
   "id": "b026558e",
   "metadata": {},
   "outputs": [],
   "source": [
    "recall_score(y_test, decision_tree_prediction)"
   ]
  }
 ],
 "metadata": {
  "kernelspec": {
   "display_name": "Python 3 (ipykernel)",
   "language": "python",
   "name": "python3"
  },
  "language_info": {
   "codemirror_mode": {
    "name": "ipython",
    "version": 3
   },
   "file_extension": ".py",
   "mimetype": "text/x-python",
   "name": "python",
   "nbconvert_exporter": "python",
   "pygments_lexer": "ipython3",
   "version": "3.9.12"
  }
 },
 "nbformat": 4,
 "nbformat_minor": 5
}
